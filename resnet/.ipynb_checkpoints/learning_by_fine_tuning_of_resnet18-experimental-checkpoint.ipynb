{
 "cells": [
  {
   "cell_type": "markdown",
   "metadata": {},
   "source": [
    "# torchvision.models.resnet18を用いたファインチューニングによる学習とGradCAMによる注視領域の可視化"
   ]
  },
  {
   "cell_type": "markdown",
   "metadata": {},
   "source": [
    "### import"
   ]
  },
  {
   "cell_type": "code",
   "execution_count": null,
   "metadata": {},
   "outputs": [],
   "source": [
    "import matplotlib.pyplot as plt\n",
    "import numpy as np\n",
    "import torch\n",
    "import torchvision\n",
    "import time\n",
    "from copy import deepcopy"
   ]
  },
  {
   "cell_type": "code",
   "execution_count": null,
   "metadata": {},
   "outputs": [],
   "source": [
    "from data_loader import train_loader\n",
    "from data_loader import train_size\n",
    "from data_loader import test_loader\n",
    "from data_loader import test_size\n",
    "from models.resnet import resnet"
   ]
  },
  {
   "cell_type": "markdown",
   "metadata": {},
   "source": [
    "### device config"
   ]
  },
  {
   "cell_type": "code",
   "execution_count": null,
   "metadata": {},
   "outputs": [],
   "source": [
    "CUDA_LAUNCH_BLOCKING=1"
   ]
  },
  {
   "cell_type": "code",
   "execution_count": null,
   "metadata": {},
   "outputs": [],
   "source": [
    "use_gpu = torch.cuda.is_available()"
   ]
  },
  {
   "cell_type": "code",
   "execution_count": null,
   "metadata": {},
   "outputs": [],
   "source": [
    "device = torch.device(\"cuda:0\" if use_gpu else \"cpu\")"
   ]
  },
  {
   "cell_type": "code",
   "execution_count": null,
   "metadata": {},
   "outputs": [],
   "source": [
    "print(use_gpu)"
   ]
  },
  {
   "cell_type": "markdown",
   "metadata": {},
   "source": [
    "### show samples"
   ]
  },
  {
   "cell_type": "code",
   "execution_count": null,
   "metadata": {},
   "outputs": [],
   "source": [
    "def imshow(img):\n",
    "    img = img / 2 + 0.5\n",
    "    npimg = img.numpy()\n",
    "    plt.imshow(np.transpose(npimg, (1, 2, 0)))\n",
    "    plt.show()\n",
    "\n",
    "# 訓練データをランダムに取得\n",
    "dataiter = iter(train_loader)\n",
    "images, labels = dataiter.next()\n",
    "\n",
    "# 画像の表示\n",
    "imshow(torchvision.utils.make_grid(images))\n",
    "# ラベルの表示\n",
    "print(' '.join('%5s' % labels[labels[j]] for j in range(10)))"
   ]
  },
  {
   "cell_type": "markdown",
   "metadata": {},
   "source": [
    "### define model, parameter, optimizer, loss function"
   ]
  },
  {
   "cell_type": "code",
   "execution_count": null,
   "metadata": {},
   "outputs": [],
   "source": [
    "resnet = resnet.to(device)\n",
    "learning_ratio = 1e-4\n",
    "epochs = 2\n",
    "optimizer = torch.optim.Adam(resnet.parameters(), lr=learning_ratio, weight_decay=1e-4)\n",
    "loss_func = torch.nn.CrossEntropyLoss()"
   ]
  },
  {
   "cell_type": "markdown",
   "metadata": {},
   "source": [
    "### Training the model (fine tuning)"
   ]
  },
  {
   "cell_type": "markdown",
   "metadata": {},
   "source": [
    "↓ prepare result container"
   ]
  },
  {
   "cell_type": "code",
   "execution_count": null,
   "metadata": {},
   "outputs": [],
   "source": [
    "elapsed_times = []\n",
    "loss_transition_holder = []\n",
    "accracy_transition_holder = []"
   ]
  },
  {
   "cell_type": "markdown",
   "metadata": {},
   "source": [
    "↓ run iteration"
   ]
  },
  {
   "cell_type": "code",
   "execution_count": null,
   "metadata": {
    "scrolled": true
   },
   "outputs": [],
   "source": [
    "start_time = time.time()\n",
    "\n",
    "for epoch in range(1):\n",
    "\n",
    "    running_loss = 0.0\n",
    "    total = 0\n",
    "    correct = 0\n",
    "    for i, data in enumerate(train_loader):\n",
    "        inputs, labels = data\n",
    "        labels -= 1  # なぜかinputsがImageFolderによって1,2でラベル付けされたらしい。0-indexedにする。\n",
    "        \n",
    "        inputs = inputs.to(device)\n",
    "        labels = labels.to(device)\n",
    "\n",
    "        optimizer.zero_grad()\n",
    "        outputs = resnet(inputs)\n",
    "        loss = loss_func(outputs, labels)\n",
    "        loss.backward()\n",
    "        optimizer.step()\n",
    "        \n",
    "        # statistics\n",
    "        _, predicted = torch.max(outputs.data, 1)\n",
    "        total += labels.size(0)\n",
    "        correct += (predicted == labels).sum().item()\n",
    "        running_loss += loss.item()\n",
    "\n",
    "        if i % 100 == 99:    # print every 100 mini-batches\n",
    "            print('[%d, %5d] loss: %.3f' %\n",
    "                  (epoch + 1, i + 1, running_loss / 100))\n",
    "            print(\"elapsed time: %.1f s\" % (time.time()-start_time))\n",
    "            \n",
    "            accuracy = correct / total * 100\n",
    "            \n",
    "            # record\n",
    "            elapsed_times.append(time.time()-start_time)\n",
    "            loss_transition_holder.append(running_loss)\n",
    "            accracy_transition_holder.append(accuracy)\n",
    "            \n",
    "            # init\n",
    "            running_loss = 0.0\n",
    "            total = 0\n",
    "            correct = 0\n",
    "\n",
    "\n",
    "elapsed_time = time.time()-start_time\n",
    "print('Training was done. Elapsed time: ', elapsed_time)"
   ]
  },
  {
   "cell_type": "markdown",
   "metadata": {},
   "source": [
    "### save the trained model"
   ]
  },
  {
   "cell_type": "code",
   "execution_count": null,
   "metadata": {},
   "outputs": [],
   "source": [
    "state_holder_path = \"./state_holder3.pth\"\n",
    "torch.save(resnet.state_dict(), state_holder_path)"
   ]
  },
  {
   "cell_type": "markdown",
   "metadata": {},
   "source": [
    "### Visualize stats"
   ]
  },
  {
   "cell_type": "code",
   "execution_count": null,
   "metadata": {},
   "outputs": [],
   "source": [
    "fig, axes = plt.subplots(nrows=1, ncols=2, figsize=(10,5))\n",
    "\n",
    "axes[0].plot(range(len(loss_transition_holder)), loss_transition_holder, label = \"loss\")\n",
    "axes[0].set_title(\"transition of loss\")\n",
    "axes[0].legend()\n",
    "\n",
    "axes[1].plot(range(len(accracy_transition_holder)), accracy_transition_holder, label =  \"accracy\")\n",
    "axes[1].set_title(\"transition of accuracy\")\n",
    "axes[1].legend()\n",
    "\n",
    "#０個目と１個目のグラフが重ならないように調整\n",
    "fig.tight_layout()"
   ]
  },
  {
   "cell_type": "markdown",
   "metadata": {},
   "source": [
    "### test the model"
   ]
  },
  {
   "cell_type": "code",
   "execution_count": null,
   "metadata": {},
   "outputs": [],
   "source": [
    "correct = 0\n",
    "total = 0\n",
    "with torch.no_grad():\n",
    "    for data in test_loader:\n",
    "        inputs, labels = data\n",
    "        labels -= 1  # なぜかinputsがImageFolderによって1,2でラベル付けされたらしい。0-indexedにする。\n",
    "        inputs = inputs.to(device)\n",
    "        labels = labels.to(device)\n",
    "        outputs = resnet(inputs)\n",
    "        _, predicted = torch.max(outputs.data, 1)\n",
    "        total += labels.size(0)\n",
    "        correct += (predicted == labels).sum().item()\n",
    "\n",
    "print('Accuracy on the test: %d %%' % (\n",
    "    100 * correct / total))"
   ]
  },
  {
   "cell_type": "markdown",
   "metadata": {},
   "source": [
    "### シーン解析なので注目している物体の詳細よりおおまかな領域が欲しい。のでGradCAMを試す。"
   ]
  },
  {
   "cell_type": "code",
   "execution_count": null,
   "metadata": {},
   "outputs": [],
   "source": [
    "dataiter = iter(test_loader)\n",
    "images, labels = dataiter.next()\n",
    "\n",
    "def toHeatmap(x):\n",
    "    x = (x*255).reshape(-1)\n",
    "    cm = plt.get_cmap('jet')\n",
    "    x = np.array([cm(int(np.round(xi)))[:3] for xi in x])\n",
    "    return x.reshape(224,224,3)\n",
    "\n",
    "with torch.no_grad():\n",
    "    for img_tensor in images:\n",
    "        resnet.features\n",
    "        resnet.classifier\n",
    "\n",
    "        feature = resnet.features(img_tensor.view(-1,3,224,224)) #特徴マップを計算\n",
    "        feature = feature.clone().detach().requires_grad_(True) #勾配を計算するようにコピー\n",
    "        y_pred = resnet.classifier(feature.view(-1,512*7*7)) #予測を行う\n",
    "        y_pred[0][torch.argmax(y_pred)].backward() # 予測でもっとも高い値をとったクラスの勾配を計算\n",
    "        # 以下は上記の式に倣って計算しています\n",
    "        alpha = torch.mean(feature.grad.view(512,7*7),1)\n",
    "        feature = feature.view(512,7,7)\n",
    "        L = F.relu(torch.sum(feature*alpha.view(-1,1,1),0)).cpu().detach().numpy()\n",
    "        # (0,1)になるように正規化\n",
    "        L_min = np.min(L)\n",
    "        L_max = np.max(L - L_min)\n",
    "        L = (L - L_min)/L_max\n",
    "        # 得られた注目度をヒートマップに変換\n",
    "        L = toHeatmap(cv2.resize(L,(224,224)))\n",
    "\n",
    "        mean = torch.tensor([0.485, 0.456, 0.406]).view(3,1,1)\n",
    "        std = torch.tensor([0.229, 0.224, 0.225]).view(3,1,1)\n",
    "\n",
    "        plt.figure(figsize=(10,10))\n",
    "        plt.imshow((img_tensor*std + mean).permute(1,2,0).cpu().detach().numpy())\n",
    "\n",
    "        img1 = (img_tensor*std + mean).permute(1,2,0).cpu().detach().numpy()\n",
    "        img2 = L\n",
    "\n",
    "        alpha = 0.3\n",
    "        blended = img1*alpha + img2*(1-alpha)\n",
    "        # 結果を表示する。\n",
    "        plt.figure(figsize=(10,10))\n",
    "        plt.imshow(blended)\n",
    "        plt.axis('off')\n",
    "        plt.show()"
   ]
  }
 ],
 "metadata": {
  "kernelspec": {
   "display_name": "nissan_competition",
   "language": "python",
   "name": "nissan_competition"
  },
  "language_info": {
   "codemirror_mode": {
    "name": "ipython",
    "version": 3
   },
   "file_extension": ".py",
   "mimetype": "text/x-python",
   "name": "python",
   "nbconvert_exporter": "python",
   "pygments_lexer": "ipython3",
   "version": "3.7.6"
  }
 },
 "nbformat": 4,
 "nbformat_minor": 4
}
